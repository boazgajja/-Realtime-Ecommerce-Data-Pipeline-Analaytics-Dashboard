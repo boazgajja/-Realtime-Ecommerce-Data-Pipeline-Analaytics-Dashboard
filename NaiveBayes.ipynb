{
  "nbformat": 4,
  "nbformat_minor": 0,
  "metadata": {
    "colab": {
      "provenance": [],
      "include_colab_link": true
    },
    "kernelspec": {
      "name": "python3",
      "display_name": "Python 3"
    },
    "language_info": {
      "name": "python"
    }
  },
  "cells": [
    {
      "cell_type": "markdown",
      "metadata": {
        "id": "view-in-github",
        "colab_type": "text"
      },
      "source": [
        "<a href=\"https://colab.research.google.com/github/boazgajja/-Realtime-Ecommerce-Data-Pipeline-Analaytics-Dashboard/blob/main/NaiveBayes.ipynb\" target=\"_parent\"><img src=\"https://colab.research.google.com/assets/colab-badge.svg\" alt=\"Open In Colab\"/></a>"
      ]
    },
    {
      "cell_type": "code",
      "source": [
        "\n",
        "from google.colab import drive\n",
        "drive.mount('/content/drive')"
      ],
      "metadata": {
        "id": "0Fq-81WthjiB",
        "colab": {
          "base_uri": "https://localhost:8080/"
        },
        "outputId": "b0bc8376-c406-450a-9ded-fcfdeb1fc8b6"
      },
      "execution_count": 1,
      "outputs": [
        {
          "output_type": "stream",
          "name": "stdout",
          "text": [
            "Mounted at /content/drive\n"
          ]
        }
      ]
    },
    {
      "cell_type": "code",
      "execution_count": 5,
      "metadata": {
        "id": "dgw3xO9Iaika",
        "colab": {
          "base_uri": "https://localhost:8080/"
        },
        "outputId": "a5ef4fcb-8beb-40de-bab4-cc1f39186eeb"
      },
      "outputs": [
        {
          "output_type": "stream",
          "name": "stdout",
          "text": [
            "Confusion Matrix:\n",
            " [[0 0]\n",
            " [1 4]]\n",
            "\n",
            "Accuracy: 0.8\n",
            "Error Rate: 0.19999999999999996\n",
            "Precision: 1.0\n",
            "Recall: 0.8\n",
            "F1 Score: 0.8888888888888888\n",
            "Classification Report:\n",
            "               precision    recall  f1-score   support\n",
            "\n",
            "          No       0.00      0.00      0.00         0\n",
            "         Yes       1.00      0.80      0.89         5\n",
            "\n",
            "    accuracy                           0.80         5\n",
            "   macro avg       0.50      0.40      0.44         5\n",
            "weighted avg       1.00      0.80      0.89         5\n",
            "\n"
          ]
        }
      ],
      "source": [
        "import pandas as pd\n",
        "from sklearn.model_selection import train_test_split\n",
        "from sklearn.naive_bayes import CategoricalNB\n",
        "from sklearn.metrics import confusion_matrix, accuracy_score, precision_score, recall_score, f1_score, classification_report\n",
        "\n",
        "# Load data\n",
        "file_path = '/content/drive/MyDrive/Colab Notebooks/CSE 303/navie bayes classification /Enjoy sports.csv'\n",
        "data_frame = pd.read_csv(file_path)\n",
        "\n",
        "# Encode categorical features\n",
        "encoded_data = data_frame.apply(lambda col: pd.factorize(col)[0])\n",
        "\n",
        "# Split into features and target variable\n",
        "features = encoded_data.drop('Decision', axis=1)\n",
        "target = encoded_data['Decision']\n",
        "\n",
        "# Split data into training and testing sets\n",
        "features_train, features_test, target_train, target_test = train_test_split(features, target, test_size=0.3, random_state=0)\n",
        "\n",
        "# Initialize and train model\n",
        "naive_bayes_model = CategoricalNB()\n",
        "naive_bayes_model.fit(features_train, target_train)\n",
        "\n",
        "# Make predictions\n",
        "predictions = naive_bayes_model.predict(features_test)\n",
        "\n",
        "# Evaluate model\n",
        "conf_matrix = confusion_matrix(target_test, predictions)\n",
        "model_accuracy = accuracy_score(target_test, predictions)\n",
        "model_error_rate = 1 - model_accuracy\n",
        "model_precision = precision_score(target_test, predictions, zero_division=0)\n",
        "model_recall = recall_score(target_test, predictions, zero_division=0)\n",
        "model_f1 = f1_score(target_test, predictions, zero_division=0)\n",
        "classification_report_str = classification_report(target_test, predictions, target_names=data_frame['Decision'].unique(), zero_division=0)\n",
        "\n",
        "\n",
        "print(\"Confusion Matrix:\\n\", conf_matrix)\n",
        "print(\"\\nAccuracy:\", model_accuracy)\n",
        "print(\"Error Rate:\", model_error_rate)\n",
        "print(\"Precision:\", model_precision)\n",
        "print(\"Recall:\", model_recall)\n",
        "print(\"F1 Score:\", model_f1)\n",
        "print(\"Classification Report:\\n\", classification_report_str)\n"
      ]
    },
    {
      "cell_type": "code",
      "source": [
        "from sklearn.datasets import load_iris\n",
        "import pandas as pd\n",
        "from sklearn.model_selection import train_test_split\n",
        "from sklearn.naive_bayes import GaussianNB\n",
        "from sklearn.metrics import confusion_matrix, accuracy_score, precision_score, recall_score, f1_score, classification_report\n",
        "\n",
        "# Load Iris dataset\n",
        "iris_data = load_iris()\n",
        "features = pd.DataFrame(iris_data.data, columns=iris_data.feature_names)\n",
        "target = pd.Series(iris_data.target, name='Species')\n",
        "\n",
        "# Split data into training and testing sets\n",
        "features_train, features_test, target_train, target_test = train_test_split(features, target, test_size=0.3, random_state=42)\n",
        "\n",
        "# Initialize and train model\n",
        "gaussian_nb_model = GaussianNB()\n",
        "gaussian_nb_model.fit(features_train, target_train)\n",
        "\n",
        "# Make predictions\n",
        "predicted_target = gaussian_nb_model.predict(features_test)\n",
        "\n",
        "# Evaluate model\n",
        "conf_matrix = confusion_matrix(target_test, predicted_target)\n",
        "model_accuracy = accuracy_score(target_test, predicted_target)\n",
        "model_error_rate = 1 - model_accuracy\n",
        "model_precision = precision_score(target_test, predicted_target, average='macro')\n",
        "model_recall = recall_score(target_test, predicted_target, average='macro')\n",
        "model_f1 = f1_score(target_test, predicted_target, average='macro')\n",
        "classification_report_str = classification_report(target_test, predicted_target, target_names=iris_data.target_names)\n",
        "\n",
        "print(\"Confusion Matrix:\\n\", conf_matrix)\n",
        "print(\"\\nAccuracy:\", model_accuracy)\n",
        "print(\"Error Rate:\", model_error_rate)\n",
        "print(\"Precision:\", model_precision)\n",
        "print(\"Recall:\", model_recall)\n",
        "print(\"F1 Score:\", model_f1)\n",
        "print(\"\\nClassification Report:\\n\", classification_report_str)\n"
      ],
      "metadata": {
        "id": "qSYmZKgakS83",
        "colab": {
          "base_uri": "https://localhost:8080/"
        },
        "outputId": "88fa956c-f99e-4d7e-b861-cd4d622678c7"
      },
      "execution_count": 4,
      "outputs": [
        {
          "output_type": "stream",
          "name": "stdout",
          "text": [
            "Confusion Matrix:\n",
            " [[19  0  0]\n",
            " [ 0 12  1]\n",
            " [ 0  0 13]]\n",
            "\n",
            "Accuracy: 0.9777777777777777\n",
            "Error Rate: 0.022222222222222254\n",
            "Precision: 0.9761904761904763\n",
            "Recall: 0.9743589743589745\n",
            "F1 Score: 0.974320987654321\n",
            "\n",
            "Classification Report:\n",
            "               precision    recall  f1-score   support\n",
            "\n",
            "      setosa       1.00      1.00      1.00        19\n",
            "  versicolor       1.00      0.92      0.96        13\n",
            "   virginica       0.93      1.00      0.96        13\n",
            "\n",
            "    accuracy                           0.98        45\n",
            "   macro avg       0.98      0.97      0.97        45\n",
            "weighted avg       0.98      0.98      0.98        45\n",
            "\n"
          ]
        }
      ]
    },
    {
      "cell_type": "code",
      "source": [],
      "metadata": {
        "id": "ccyM_y_hTpmi"
      },
      "execution_count": null,
      "outputs": []
    }
  ]
}