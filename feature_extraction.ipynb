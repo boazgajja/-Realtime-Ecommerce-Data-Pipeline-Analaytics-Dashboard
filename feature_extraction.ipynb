{
  "cells": [
    {
      "cell_type": "markdown",
      "metadata": {
        "id": "view-in-github",
        "colab_type": "text"
      },
      "source": [
        "<a href=\"https://colab.research.google.com/github/boazgajja/-Realtime-Ecommerce-Data-Pipeline-Analaytics-Dashboard/blob/main/feature_extraction.ipynb\" target=\"_parent\"><img src=\"https://colab.research.google.com/assets/colab-badge.svg\" alt=\"Open In Colab\"/></a>"
      ]
    },
    {
      "cell_type": "code",
      "source": [
        "#first question\n",
        "import numpy as np\n",
        "n_elements = 10\n",
        "data_vector = np.array([1, 2, 3, 4, 5, 6, 7, 8, 9, 10])\n",
        "\n",
        "avg_value = np.mean(data_vector)\n",
        "\n",
        "sample_var = np.var(data_vector, ddof=1)\n",
        "\n",
        "population_var = np.var(data_vector)\n",
        "\n",
        "print(f'Data Vector (1x{n_elements}): {data_vector}')\n",
        "print(f'Calculated Mean: {avg_value:.4f}')\n",
        "print(f'Sample Variance: {sample_var:.4f}')\n",
        "print(f'Population Variance: {population_var:.4f}')\n",
        "\n"
      ],
      "metadata": {
        "colab": {
          "base_uri": "https://localhost:8080/"
        },
        "id": "LGAjpNHm7cgk",
        "outputId": "01d5dc79-bf89-41c2-8e96-a0fc1d609e65"
      },
      "execution_count": 3,
      "outputs": [
        {
          "output_type": "stream",
          "name": "stdout",
          "text": [
            "Data Vector (1x10): [ 1  2  3  4  5  6  7  8  9 10]\n",
            "Calculated Mean: 5.5000\n",
            "Sample Variance: 9.1667\n",
            "Population Variance: 8.2500\n"
          ]
        }
      ]
    },
    {
      "cell_type": "code",
      "source": [
        "#second question\n",
        "import numpy as np\n",
        "\n",
        "num_elements = 10\n",
        "data_x = np.array([12, 5, 9, 18, 22, 35, 44, 28, 13, 17])\n",
        "data_y = np.array([14, 7, 11, 20, 25, 38, 42, 30, 16, 19])\n",
        "\n",
        "avg_x = np.mean(data_x)\n",
        "avg_y = np.mean(data_y)\n",
        "\n",
        "cov_xy = np.sum((data_x - avg_x) * (data_y - avg_y)) / (num_elements - 1)\n",
        "\n",
        "print(f'Data X (1x{num_elements} array): {data_x}')\n",
        "print(f'Data Y (1x{num_elements} array): {data_y}')\n",
        "print(f'Calculated Covariance: {cov_xy:.4f}')\n"
      ],
      "metadata": {
        "colab": {
          "base_uri": "https://localhost:8080/"
        },
        "id": "Pjd2uLhS8plx",
        "outputId": "5bacca62-db56-44dc-f09d-2ec0a6276278"
      },
      "execution_count": 4,
      "outputs": [
        {
          "output_type": "stream",
          "name": "stdout",
          "text": [
            "Data X (1x10 array): [12  5  9 18 22 35 44 28 13 17]\n",
            "Data Y (1x10 array): [14  7 11 20 25 38 42 30 16 19]\n",
            "Calculated Covariance: 139.3778\n"
          ]
        }
      ]
    },
    {
      "cell_type": "code",
      "source": [
        "#third question\n",
        "import numpy as np\n",
        "\n",
        "num_items = 10\n",
        "data_x = np.array([10, 12, 18, 22, 29, 33, 37, 41, 25, 19])\n",
        "data_y = np.array([8, 11, 17, 23, 28, 32, 35, 39, 22, 16])\n",
        "\n",
        "avg_x = np.mean(data_x)\n",
        "avg_y = np.mean(data_y)\n",
        "\n",
        "cov_xy = np.sum((data_x - avg_x) * (data_y - avg_y)) / (num_items - 1)\n",
        "\n",
        "var_x = np.var(data_x, ddof=1)\n",
        "var_y = np.var(data_y, ddof=1)\n",
        "\n",
        "corr_xy = cov_xy / np.sqrt(var_x * var_y)\n",
        "\n",
        "print(f'Data X (1x{num_items} array): {data_x}')\n",
        "print(f'Data Y (1x{num_items} array): {data_y}')\n",
        "print(f'Correlation Coefficient: {corr_xy:.4f}')\n"
      ],
      "metadata": {
        "colab": {
          "base_uri": "https://localhost:8080/"
        },
        "id": "z1eLMoue9diE",
        "outputId": "a0168fa3-5ed7-43ef-8e40-63779e6078a1"
      },
      "execution_count": 6,
      "outputs": [
        {
          "output_type": "stream",
          "name": "stdout",
          "text": [
            "Data X (1x10 array): [10 12 18 22 29 33 37 41 25 19]\n",
            "Data Y (1x10 array): [ 8 11 17 23 28 32 35 39 22 16]\n",
            "Correlation Coefficient: 0.9935\n"
          ]
        }
      ]
    },
    {
      "cell_type": "code",
      "source": [
        "import numpy as np\n",
        "\n",
        "# Define dimensions\n",
        "num_rows = 4\n",
        "num_cols = 5\n",
        "\n",
        "# Define the matrix\n",
        "data_matrix = np.array([\n",
        "    [1.2, 3.5, 5.7, 2.1, 4.4],\n",
        "    [6.8, 2.4, 3.6, 8.7, 5.9],\n",
        "    [4.3, 7.1, 8.2, 1.4, 3.7],\n",
        "    [9.8, 2.1, 4.5, 6.2, 7.0]\n",
        "])\n",
        "\n",
        "# Compute the transpose of the matrix\n",
        "transposed_matrix = data_matrix.T\n",
        "\n",
        "# Compute the covariance matrix\n",
        "covariance_matrix = np.cov(transposed_matrix, rowvar=False)\n",
        "\n",
        "# Compute the correlation matrix\n",
        "correlation_matrix = np.corrcoef(transposed_matrix, rowvar=False)\n",
        "\n",
        "# Print the results\n",
        "print(f'Data Matrix ({num_rows}x{num_cols} dimension):\\n{data_matrix}\\n')\n",
        "print(f'Covariance Matrix ({num_rows}x{num_rows} dimension):\\n{covariance_matrix}\\n')\n",
        "print(f'Correlation Matrix ({num_rows}x{num_rows} dimension):\\n{correlation_matrix}\\n')\n"
      ],
      "metadata": {
        "colab": {
          "base_uri": "https://localhost:8080/"
        },
        "id": "Ap5_MNiT9-mj",
        "outputId": "76cb7a8b-698a-4c90-c8dc-f0416b4da435"
      },
      "execution_count": 7,
      "outputs": [
        {
          "output_type": "stream",
          "name": "stdout",
          "text": [
            "Data Matrix (4x5 dimension):\n",
            "[[1.2 3.5 5.7 2.1 4.4]\n",
            " [6.8 2.4 3.6 8.7 5.9]\n",
            " [4.3 7.1 8.2 1.4 3.7]\n",
            " [9.8 2.1 4.5 6.2 7. ]]\n",
            "\n",
            "Covariance Matrix (4x4 dimension):\n",
            "[[ 3.207  -2.8255  3.121  -2.867 ]\n",
            " [-2.8255  6.327  -6.3865  5.228 ]\n",
            " [ 3.121  -6.3865  7.443  -4.4235]\n",
            " [-2.867   5.228  -4.4235  8.227 ]]\n",
            "\n",
            "Correlation Matrix (4x4 dimension):\n",
            "[[ 1.         -0.62725902  0.6388079  -0.5581584 ]\n",
            " [-0.62725902  1.         -0.93065773  0.72462934]\n",
            " [ 0.6388079  -0.93065773  1.         -0.56528996]\n",
            " [-0.5581584   0.72462934 -0.56528996  1.        ]]\n",
            "\n"
          ]
        }
      ]
    }
  ],
  "metadata": {
    "colab": {
      "provenance": [],
      "authorship_tag": "ABX9TyN+NFMSUZ+UwBOjeMk0hlZj",
      "include_colab_link": true
    },
    "kernelspec": {
      "display_name": "Python 3",
      "name": "python3"
    },
    "language_info": {
      "name": "python"
    }
  },
  "nbformat": 4,
  "nbformat_minor": 0
}