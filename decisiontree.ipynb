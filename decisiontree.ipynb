{
  "nbformat": 4,
  "nbformat_minor": 0,
  "metadata": {
    "colab": {
      "provenance": [],
      "authorship_tag": "ABX9TyOruNnbD+99jvJbwRAaXR45",
      "include_colab_link": true
    },
    "kernelspec": {
      "name": "python3",
      "display_name": "Python 3"
    },
    "language_info": {
      "name": "python"
    }
  },
  "cells": [
    {
      "cell_type": "markdown",
      "metadata": {
        "id": "view-in-github",
        "colab_type": "text"
      },
      "source": [
        "<a href=\"https://colab.research.google.com/github/boazgajja/-Realtime-Ecommerce-Data-Pipeline-Analaytics-Dashboard/blob/main/decisiontree.ipynb\" target=\"_parent\"><img src=\"https://colab.research.google.com/assets/colab-badge.svg\" alt=\"Open In Colab\"/></a>"
      ]
    },
    {
      "cell_type": "code",
      "execution_count": 1,
      "metadata": {
        "colab": {
          "base_uri": "https://localhost:8080/"
        },
        "id": "pQUOsBrt4Ix0",
        "outputId": "b0fec2bd-0c3e-4c97-ea34-8c056fec850d"
      },
      "outputs": [
        {
          "output_type": "stream",
          "name": "stdout",
          "text": [
            "Mounted at /content/drive\n"
          ]
        }
      ],
      "source": [
        "from google.colab import drive\n",
        "drive.mount('/content/drive')"
      ]
    },
    {
      "cell_type": "code",
      "source": [
        "#first using code\n",
        "import numpy as np\n",
        "import pandas as pd\n",
        "\n",
        "def compute_entropy(labels):\n",
        "    label_values, label_counts = np.unique(labels, return_counts=True)\n",
        "    probabilities = label_counts / len(labels)\n",
        "    return -np.sum(probabilities * np.log2(probabilities))\n",
        "\n",
        "def calculate_info_gain(features, labels, feature_index):\n",
        "    unique_values = np.unique(features[:, feature_index])\n",
        "    weighted_entropy = 0\n",
        "    for value in unique_values:\n",
        "        subset_labels = labels[features[:, feature_index] == value]\n",
        "        weighted_entropy += len(subset_labels) / len(labels) * compute_entropy(subset_labels)\n",
        "    return compute_entropy(labels) - weighted_entropy\n",
        "\n",
        "def find_best_feature(features, labels):\n",
        "    info_gains = [calculate_info_gain(features, labels, i) for i in range(features.shape[1])]\n",
        "    return np.argmax(info_gains)\n",
        "\n",
        "def build_decision_tree(features, labels):\n",
        "    if len(np.unique(labels)) == 1:\n",
        "        return np.unique(labels)[0]\n",
        "    if features.shape[1] == 0:\n",
        "        return np.bincount(labels).argmax()\n",
        "\n",
        "    best_feature_index = find_best_feature(features, labels)\n",
        "    tree = {best_feature_index: {}}\n",
        "    for value in np.unique(features[:, best_feature_index]):\n",
        "        subset_features = features[features[:, best_feature_index] == value]\n",
        "        subset_labels = labels[features[:, best_feature_index] == value]\n",
        "        tree[best_feature_index][value] = build_decision_tree(np.delete(subset_features, best_feature_index, axis=1), subset_labels)\n",
        "    return tree\n",
        "\n",
        "# Load data\n",
        "data = pd.read_csv('/content/drive/MyDrive/Colab Notebooks/CSE 303/LAB7:decision tree/dataset.csv')\n",
        "features = data.iloc[:, :-1].values\n",
        "labels = data.iloc[:, -1].values\n",
        "\n",
        "# Build and print the decision tree\n",
        "decision_tree = build_decision_tree(features, labels)\n",
        "print(decision_tree)\n"
      ],
      "metadata": {
        "colab": {
          "base_uri": "https://localhost:8080/"
        },
        "id": "e6yn1JUPE1bh",
        "outputId": "83ddeb22-68da-4435-a99e-71ae03925ea3"
      },
      "execution_count": 4,
      "outputs": [
        {
          "output_type": "stream",
          "name": "stdout",
          "text": [
            "{0: {1: 'no', 2: 'no', 3: 'yes', 4: 'yes', 5: 'yes', 6: 'no', 7: 'yes', 8: 'no', 9: 'yes', 10: 'yes', 11: 'yes', 12: 'yes', 13: 'yes', 14: 'no'}}\n"
          ]
        }
      ]
    },
    {
      "cell_type": "code",
      "source": [
        "import pandas as pd\n",
        "from sklearn.preprocessing import LabelEncoder\n",
        "from sklearn.tree import DecisionTreeClassifier\n",
        "from sklearn import tree\n",
        "import matplotlib.pyplot as plt\n",
        "\n",
        "data = pd.read_csv(/content/drive/MyDrive/Colab Notebooks/CSE 303/LAB7:decision tree/dataset.csv\n",
        "‘)\n",
        "X = data.iloc[:, :-1]\n",
        "y = data.iloc[:, -1]\n",
        "\n",
        "le = LabelEncoder()\n",
        "X = X.apply(le.fit_transform)\n",
        "y = le.fit_transform(y)\n",
        "\n",
        "model = DecisionTreeClassifier()\n",
        "model.fit(X, y)\n",
        "\n",
        "tree.plot_tree(model, filled=True)\n",
        "plt.show()\n",
        "\n"
      ],
      "metadata": {
        "colab": {
          "base_uri": "https://localhost:8080/",
          "height": 110
        },
        "id": "I5khj3fQF5A_",
        "outputId": "589ef9b9-dd93-445e-eb77-b6261fc3947f"
      },
      "execution_count": 5,
      "outputs": [
        {
          "output_type": "error",
          "ename": "SyntaxError",
          "evalue": "invalid character '‘' (U+2018) (<ipython-input-5-450b9e51fc7b>, line 8)",
          "traceback": [
            "\u001b[0;36m  File \u001b[0;32m\"<ipython-input-5-450b9e51fc7b>\"\u001b[0;36m, line \u001b[0;32m8\u001b[0m\n\u001b[0;31m    ‘)\u001b[0m\n\u001b[0m    ^\u001b[0m\n\u001b[0;31mSyntaxError\u001b[0m\u001b[0;31m:\u001b[0m invalid character '‘' (U+2018)\n"
          ]
        }
      ]
    },
    {
      "cell_type": "code",
      "source": [],
      "metadata": {
        "id": "BhdpfikOFEva"
      },
      "execution_count": null,
      "outputs": []
    },
    {
      "cell_type": "code",
      "source": [
        "#second using inbuilt functions"
      ],
      "metadata": {
        "id": "9dAXTxqIE9rQ"
      },
      "execution_count": null,
      "outputs": []
    }
  ]
}