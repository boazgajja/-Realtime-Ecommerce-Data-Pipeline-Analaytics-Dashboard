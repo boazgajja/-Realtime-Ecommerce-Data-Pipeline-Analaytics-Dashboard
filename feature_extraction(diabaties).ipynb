{
  "cells": [
    {
      "cell_type": "markdown",
      "metadata": {
        "id": "view-in-github",
        "colab_type": "text"
      },
      "source": [
        "<a href=\"https://colab.research.google.com/github/boazgajja/-Realtime-Ecommerce-Data-Pipeline-Analaytics-Dashboard/blob/main/feature_extraction(diabaties).ipynb\" target=\"_parent\"><img src=\"https://colab.research.google.com/assets/colab-badge.svg\" alt=\"Open In Colab\"/></a>"
      ]
    },
    {
      "cell_type": "code",
      "source": [
        "\n",
        "from google.colab import drive\n",
        "drive.mount('/content/drive')"
      ],
      "metadata": {
        "colab": {
          "base_uri": "https://localhost:8080/"
        },
        "id": "vbXS-p_Rq04D",
        "outputId": "09f40f8b-24bc-4632-ac89-7f09c92156b8"
      },
      "execution_count": 1,
      "outputs": [
        {
          "output_type": "stream",
          "name": "stdout",
          "text": [
            "Mounted at /content/drive\n"
          ]
        }
      ]
    },
    {
      "cell_type": "code",
      "source": [
        "import pandas as pd\n",
        "from sklearn.model_selection import train_test_split\n",
        "from sklearn.tree import DecisionTreeClassifier\n",
        "from sklearn.metrics import accuracy_score\n",
        "\n",
        "df = pd.read_csv('/content/drive/MyDrive/Colab Notebooks/CSE 303/feature extraction /diabetes.csv')\n",
        "y = df['Outcome']\n",
        "df = df.drop('Outcome', axis=1)"
      ],
      "metadata": {
        "id": "i0rIH3me_xz5"
      },
      "execution_count": 6,
      "outputs": []
    },
    {
      "cell_type": "code",
      "source": [
        "features_train, features_test, target_train, target_test = train_test_split(df, y, test_size=0.3, random_state=42)\n",
        "\n",
        "classifier = DecisionTreeClassifier(random_state=42)\n",
        "classifier.fit(features_train, target_train)\n",
        "\n",
        "predictions = classifier.predict(features_test)\n",
        "score = accuracy_score(target_test, predictions)\n",
        "\n",
        "print(f'Accuracy Before: {score}')\n"
      ],
      "metadata": {
        "colab": {
          "base_uri": "https://localhost:8080/"
        },
        "id": "eT6u2csD_-yc",
        "outputId": "4ccfcc8d-23e7-445d-b852-f0127d60ea56"
      },
      "execution_count": 7,
      "outputs": [
        {
          "output_type": "stream",
          "name": "stdout",
          "text": [
            "Accuracy Before: 0.7012987012987013\n"
          ]
        }
      ]
    },
    {
      "cell_type": "code",
      "source": [
        "# 1. Missing Values Ratio (Threshold 30%)\n",
        "\n",
        "missing_ratio = df.eq(0).sum() / len(df) * 100\n",
        "print('Missing ratio per feature:\\n', missing_ratio)\n",
        "\n",
        "missing_ratio\n",
        "features = df.loc[:, missing_ratio <= 30]\n",
        "\n",
        "features_train, features_test, target_train, target_test = train_test_split(features, y, test_size=0.3, random_state=42)\n",
        "\n",
        "classifier = DecisionTreeClassifier(random_state=42)\n",
        "classifier.fit(features_train, target_train)\n",
        "\n",
        "predictions = classifier.predict(features_test)\n",
        "score = accuracy_score(target_test, predictions)\n",
        "\n",
        "print(f'\\nAccuracy After removing features with >30% missing values: {score}')\n"
      ],
      "metadata": {
        "colab": {
          "base_uri": "https://localhost:8080/"
        },
        "id": "A4qWW1jvA0Bv",
        "outputId": "9ed1ccdc-5022-4a45-dc36-7ecbf85f40c7"
      },
      "execution_count": 8,
      "outputs": [
        {
          "output_type": "stream",
          "name": "stdout",
          "text": [
            "Missing ratio per feature:\n",
            " Pregnancies                 14.453125\n",
            "Glucose                      0.651042\n",
            "BloodPressure                4.557292\n",
            "SkinThickness               29.557292\n",
            "Insulin                     48.697917\n",
            "BMI                          1.432292\n",
            "DiabetesPedigreeFunction     0.000000\n",
            "Age                          0.000000\n",
            "dtype: float64\n",
            "\n",
            "Accuracy After removing features with >30% missing values: 0.70995670995671\n"
          ]
        }
      ]
    },
    {
      "cell_type": "code",
      "source": [
        "# 3. High Correlation Filter (Correlation > 0.8)\n",
        "\n",
        "import numpy as np\n",
        "\n",
        "# Calculate the correlation matrix\n",
        "corr_matrix = df.corr().abs()\n",
        "\n",
        "# Identify pairs of highly correlated features (correlation > 0.8)\n",
        "upper_triangle = corr_matrix.where(np.triu(np.ones(corr_matrix.shape), k=1).astype(bool))\n",
        "features_to_drop = [column for column in upper_triangle.columns if any(upper_triangle[column] > 0.8)]\n",
        "\n",
        "print(f'Highly correlated features to drop: {features_to_drop}')\n",
        "\n",
        "# Drop highly correlated features\n",
        "df_reduced = df.drop(columns=features_to_drop)\n",
        "\n",
        "# Split data and train model using the reduced dataset\n",
        "features_train, features_test, target_train, target_test = train_test_split(df_reduced, y, test_size=0.2, random_state=42)\n",
        "\n",
        "# Training the model\n",
        "classifier = DecisionTreeClassifier(random_state=42)\n",
        "classifier.fit(features_train, target_train)\n",
        "\n",
        "# Predicting the model and the accuracy on the reduced feature set\n",
        "predictions = classifier.predict(features_test)\n",
        "score = accuracy_score(target_test, predictions)\n",
        "\n",
        "print(f'Accuracy after removing highly correlated features: {score}')\n"
      ],
      "metadata": {
        "colab": {
          "base_uri": "https://localhost:8080/"
        },
        "id": "ePecw8Q6A9DW",
        "outputId": "4d659c29-99e0-4db9-883c-2fa049b14203"
      },
      "execution_count": 9,
      "outputs": [
        {
          "output_type": "stream",
          "name": "stdout",
          "text": [
            "Highly correlated features to drop: []\n",
            "Accuracy after removing highly correlated features: 0.7467532467532467\n"
          ]
        }
      ]
    },
    {
      "cell_type": "code",
      "source": [
        "# 5. Low Variance Filter\n",
        "\n",
        "from sklearn.feature_selection import VarianceThreshold\n",
        "\n",
        "# low variance filter\n",
        "selector = VarianceThreshold(threshold=0.01)\n",
        "features_reduced = selector.fit_transform(df)\n",
        "target = y\n",
        "\n",
        "# Train model\n",
        "features_train, features_test, target_train, target_test = train_test_split(features_reduced, target, test_size=0.2, random_state=42)\n",
        "\n",
        "classifier.fit(features_train, target_train)\n",
        "predictions = classifier.predict(features_test)\n",
        "score = accuracy_score(target_test, predictions)\n",
        "print(f'Accuracy after applying low variance filter: {score}')\n"
      ],
      "metadata": {
        "colab": {
          "base_uri": "https://localhost:8080/"
        },
        "id": "0a2nv19qA-wK",
        "outputId": "215a9603-627b-49ca-ba5d-574f9421fc7d"
      },
      "execution_count": 10,
      "outputs": [
        {
          "output_type": "stream",
          "name": "stdout",
          "text": [
            "Accuracy after applying low variance filter: 0.7467532467532467\n"
          ]
        }
      ]
    },
    {
      "cell_type": "code",
      "source": [
        "# 7. Forward Feature Selection\n",
        "\n",
        "from sklearn.feature_selection import SequentialFeatureSelector\n",
        "from sklearn.linear_model import LogisticRegression\n",
        "\n",
        "# Forward feature selection using logistic regression\n",
        "model = LogisticRegression(max_iter=1000)\n",
        "sfs = SequentialFeatureSelector(model, n_features_to_select=\"auto\", direction='forward')\n",
        "\n",
        "features = df\n",
        "target = y\n",
        "\n",
        "# Apply forward selection\n",
        "sfs.fit(features, target)\n",
        "features_selected = sfs.transform(features)\n",
        "\n",
        "# Train model on selected features\n",
        "features_train, features_test, target_train, target_test = train_test_split(features_selected, target, test_size=0.2, random_state=42)\n",
        "model.fit(features_train, target_train)\n",
        "predictions = model.predict(features_test)\n",
        "score = accuracy_score(target_test, predictions)\n",
        "print(f'Accuracy with forward feature selection: {score}')\n"
      ],
      "metadata": {
        "colab": {
          "base_uri": "https://localhost:8080/"
        },
        "id": "YctS4nnjBMZS",
        "outputId": "89d43c3c-0ca7-49ad-fd52-1fa9249341cf"
      },
      "execution_count": 11,
      "outputs": [
        {
          "output_type": "stream",
          "name": "stdout",
          "text": [
            "Accuracy with forward feature selection: 0.7532467532467533\n"
          ]
        }
      ]
    },
    {
      "cell_type": "code",
      "source": [
        "# 9. Backward Feature Elimination\n",
        "\n",
        "from sklearn.feature_selection import RFE\n",
        "from sklearn.tree import DecisionTreeClassifier\n",
        "\n",
        "# Recursive feature elimination using decision tree classifier\n",
        "model = DecisionTreeClassifier(random_state=42)\n",
        "rfe = RFE(model, n_features_to_select=5)  # Select top 5 features\n",
        "\n",
        "features = df\n",
        "target = y\n",
        "\n",
        "# Fit RFE\n",
        "rfe.fit(features, target)\n",
        "features_reduced = rfe.transform(features)\n",
        "\n",
        "# Train model on selected features\n",
        "features_train, features_test, target_train, target_test = train_test_split(features_reduced, target, test_size=0.2, random_state=42)\n",
        "model.fit(features_train, target_train)\n",
        "predictions = model.predict(features_test)\n",
        "score = accuracy_score(target_test, predictions)\n",
        "print(f'Accuracy after backward feature elimination: {score}')\n"
      ],
      "metadata": {
        "colab": {
          "base_uri": "https://localhost:8080/"
        },
        "id": "9ONh_3ViBUHP",
        "outputId": "8048a83b-442a-44df-ea7e-c333646ede80"
      },
      "execution_count": 12,
      "outputs": [
        {
          "output_type": "stream",
          "name": "stdout",
          "text": [
            "Accuracy after backward feature elimination: 0.7077922077922078\n"
          ]
        }
      ]
    },
    {
      "cell_type": "code",
      "source": [
        "# 11. Random Forest Feature Importance\n",
        "\n",
        "from sklearn.ensemble import RandomForestClassifier\n",
        "\n",
        "# Train random forest classifier\n",
        "model = RandomForestClassifier(random_state=42)\n",
        "features = df\n",
        "target = y\n",
        "\n",
        "model.fit(features, target)\n",
        "\n",
        "# Feature importance\n",
        "importances = model.feature_importances_\n",
        "indices = np.argsort(importances)[-5:]  # Keep top 5 features\n",
        "\n",
        "# Select top 5 important features\n",
        "features_reduced = features.iloc[:, indices]\n",
        "\n",
        "# Train model on top 5 features\n",
        "features_train, features_test, target_train, target_test = train_test_split(features_reduced, target, test_size=0.2, random_state=42)\n",
        "model.fit(features_train, target_train)\n",
        "predictions = model.predict(features_test)\n",
        "score = accuracy_score(target_test, predictions)\n",
        "print(f'Accuracy after keeping top 5 important features: {score}')\n"
      ],
      "metadata": {
        "colab": {
          "base_uri": "https://localhost:8080/"
        },
        "id": "zwRsFDj_Bcdd",
        "outputId": "fde18f95-0112-4810-f510-e89982b3dfa0"
      },
      "execution_count": 13,
      "outputs": [
        {
          "output_type": "stream",
          "name": "stdout",
          "text": [
            "Accuracy after keeping top 5 important features: 0.7532467532467533\n"
          ]
        }
      ]
    }
  ],
  "metadata": {
    "colab": {
      "provenance": [],
      "authorship_tag": "ABX9TyM2oP1/FPgPOIcovWq6XlJj",
      "include_colab_link": true
    },
    "kernelspec": {
      "display_name": "Python 3",
      "name": "python3"
    },
    "language_info": {
      "name": "python"
    }
  },
  "nbformat": 4,
  "nbformat_minor": 0
}